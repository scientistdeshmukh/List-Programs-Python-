{
 "cells": [
  {
   "cell_type": "markdown",
   "metadata": {},
   "source": [
    "### 1. Check if element exists in list"
   ]
  },
  {
   "cell_type": "markdown",
   "metadata": {},
   "source": [
    "#### A. Using loop"
   ]
  },
  {
   "cell_type": "code",
   "execution_count": 5,
   "metadata": {},
   "outputs": [
    {
     "name": "stdout",
     "output_type": "stream",
     "text": [
      "Number does not exist\n",
      "Number does not exist\n",
      "Number exist\n",
      "Number does not exist\n",
      "Number does not exist\n"
     ]
    }
   ],
   "source": [
    "list = [2, 4, 6, 22, 35]\n",
    "\n",
    "for i in list:\n",
    "    if (i==6):\n",
    "        print ('Number exist')\n",
    "    else:\n",
    "        print ('Number does not exist')"
   ]
  },
  {
   "cell_type": "code",
   "execution_count": 6,
   "metadata": {},
   "outputs": [
    {
     "name": "stdout",
     "output_type": "stream",
     "text": [
      "Number exist\n"
     ]
    }
   ],
   "source": [
    "list = [2, 4, 6, 22, 35]\n",
    "\n",
    "for i in list:\n",
    "    if (i==6):\n",
    "        print ('Number exist')"
   ]
  },
  {
   "cell_type": "markdown",
   "metadata": {},
   "source": [
    "B. Using in"
   ]
  },
  {
   "cell_type": "code",
   "execution_count": 8,
   "metadata": {},
   "outputs": [
    {
     "name": "stdout",
     "output_type": "stream",
     "text": [
      "Number exist\n"
     ]
    }
   ],
   "source": [
    "list = [2, 4, 6, 22, 35]\n",
    "\n",
    "if 6 in list:\n",
    "    print ('Number exist')"
   ]
  },
  {
   "cell_type": "markdown",
   "metadata": {},
   "source": [
    "### 2. Ways to clear a list in Python"
   ]
  },
  {
   "cell_type": "markdown",
   "metadata": {},
   "source": [
    "###### A: Using clear() method"
   ]
  },
  {
   "cell_type": "code",
   "execution_count": 1,
   "metadata": {},
   "outputs": [
    {
     "name": "stdout",
     "output_type": "stream",
     "text": [
      "My list before clear: [1, 3, 6, 9]\n",
      "My list after clear: []\n"
     ]
    }
   ],
   "source": [
    "# Creating list\n",
    "my_list = [1, 3, 6, 9]\n",
    "print('My list before clear:', my_list) \n",
    "  \n",
    "# Clearing list \n",
    "my_list.clear() \n",
    "print('My list after clear:', my_list)"
   ]
  },
  {
   "cell_type": "markdown",
   "metadata": {},
   "source": [
    "###### B. Using “*= 0”"
   ]
  },
  {
   "cell_type": "code",
   "execution_count": 5,
   "metadata": {},
   "outputs": [
    {
     "name": "stdout",
     "output_type": "stream",
     "text": [
      "List1 before deleting is : [2, 4, 6]\n",
      "List1 after clearing using *= 0: []\n"
     ]
    }
   ],
   "source": [
    "# Initializing lists\n",
    "My_list1 = [2, 4, 6]\n",
    "  \n",
    "# Printing list1 before deleting \n",
    "print (\"List1 before deleting is : \" + str(My_list1))\n",
    "  \n",
    "# deleting list using *= 0\n",
    "My_list1 *= 0\n",
    "  \n",
    "# Printing list1 after *= 0\n",
    "print (\"List1 after clearing using *= 0: \" + str(My_list1))"
   ]
  },
  {
   "cell_type": "markdown",
   "metadata": {},
   "source": [
    "##### C. Using del"
   ]
  },
  {
   "cell_type": "code",
   "execution_count": 9,
   "metadata": {},
   "outputs": [
    {
     "name": "stdout",
     "output_type": "stream",
     "text": [
      "List2 after clearing using del : []\n"
     ]
    }
   ],
   "source": [
    "# Initializing lists\n",
    "My_list2 = [4, 16, 32]\n",
    "\n",
    "del My_list2[:]\n",
    "\n",
    "print(\"List2 after clearing using del : \" + str(My_list2))"
   ]
  },
  {
   "cell_type": "markdown",
   "metadata": {},
   "source": [
    "### 3. Reversing a List"
   ]
  },
  {
   "cell_type": "markdown",
   "metadata": {},
   "source": [
    "#### A. Using the slicing technique"
   ]
  },
  {
   "cell_type": "code",
   "execution_count": 15,
   "metadata": {},
   "outputs": [
    {
     "name": "stdout",
     "output_type": "stream",
     "text": [
      "Reverse list: [32, 16, 4]\n"
     ]
    }
   ],
   "source": [
    "My_list3 = [4, 16, 32]\n",
    "\n",
    "print(\"Reverse list: \"  + str(My_list3[::-1]))"
   ]
  },
  {
   "cell_type": "code",
   "execution_count": 17,
   "metadata": {},
   "outputs": [
    {
     "name": "stdout",
     "output_type": "stream",
     "text": [
      "[32, 16, 4]\n"
     ]
    }
   ],
   "source": [
    "def Reverse(lst):\n",
    "    My_list3 = lst[::-1]\n",
    "    return My_list3\n",
    "      \n",
    "My_list3 = [4, 16, 32]\n",
    "print(Reverse(My_list3))"
   ]
  },
  {
   "cell_type": "markdown",
   "metadata": {},
   "source": [
    "##### B. Using the reverse() built-in function"
   ]
  },
  {
   "cell_type": "code",
   "execution_count": 18,
   "metadata": {},
   "outputs": [
    {
     "name": "stdout",
     "output_type": "stream",
     "text": [
      "[56, 11, 3]\n"
     ]
    }
   ],
   "source": [
    "def Reverse(MyLst):\n",
    "    MyLst.reverse()\n",
    "    return MyLst\n",
    "      \n",
    "MyLst = [3, 11, 56]\n",
    "print(Reverse(MyLst))"
   ]
  },
  {
   "cell_type": "markdown",
   "metadata": {},
   "source": [
    "### 4. Cloning or copying a list"
   ]
  },
  {
   "cell_type": "markdown",
   "metadata": {},
   "source": [
    "##### A. Using slicing technique"
   ]
  },
  {
   "cell_type": "code",
   "execution_count": 2,
   "metadata": {},
   "outputs": [
    {
     "name": "stdout",
     "output_type": "stream",
     "text": [
      "Original List: [22, 44, 88, 11]\n",
      "After Cloning: [22, 44, 88, 11]\n"
     ]
    }
   ],
   "source": [
    "# Using operator \n",
    "def Cloning(lis1):\n",
    "    lis_copy = lis1[:]\n",
    "    return lis_copy\n",
    "\n",
    "lis1 = [22,44,88,11]\n",
    "lis2 = Cloning(lis1)\n",
    "print('Original List:', lis1)\n",
    "print('After Cloning:', lis2)"
   ]
  },
  {
   "cell_type": "markdown",
   "metadata": {},
   "source": [
    "##### B. Using the extend() method"
   ]
  },
  {
   "cell_type": "code",
   "execution_count": 7,
   "metadata": {},
   "outputs": [
    {
     "name": "stdout",
     "output_type": "stream",
     "text": [
      "Original List: [24, 11, 6, 8]\n",
      "After Cloning: [24, 11, 6, 8]\n"
     ]
    }
   ],
   "source": [
    "def Cloning(li1):\n",
    "    li_copy = []\n",
    "    li_copy.extend(li1)\n",
    "    return li_copy\n",
    "\n",
    "li1 = [24,11,6,8]\n",
    "li2 = Cloning(li1)\n",
    "print('Original List:', li1)\n",
    "print('After Cloning:', li2)"
   ]
  },
  {
   "cell_type": "markdown",
   "metadata": {},
   "source": [
    "### 5. Count occurrences of an element in a list"
   ]
  },
  {
   "cell_type": "markdown",
   "metadata": {},
   "source": [
    "##### A. Simple approach"
   ]
  },
  {
   "cell_type": "code",
   "execution_count": 14,
   "metadata": {},
   "outputs": [
    {
     "name": "stdout",
     "output_type": "stream",
     "text": [
      "4 has occurred 3 times\n"
     ]
    }
   ],
   "source": [
    "def countX(lst, x):\n",
    "    count = 0\n",
    "    for i in lst:\n",
    "        if(i == x):\n",
    "            count = count + 1\n",
    "    return count\n",
    "\n",
    "lst = [4,7,3,4,6,7,4,5]\n",
    "x = 4\n",
    "print('{} has occurred {} times' .format(x, countX(lst, x)))\n"
   ]
  },
  {
   "cell_type": "markdown",
   "metadata": {},
   "source": [
    "##### B. Using count()"
   ]
  },
  {
   "cell_type": "code",
   "execution_count": 1,
   "metadata": {},
   "outputs": [
    {
     "name": "stdout",
     "output_type": "stream",
     "text": [
      "2 has occurred 3 times\n"
     ]
    }
   ],
   "source": [
    "def countX(lst, x):\n",
    "    return lst.count(x)\n",
    "\n",
    "\n",
    "lst = [2,4,5,2,7,2]\n",
    "x = 2\n",
    "print('{} has occurred {} times'.format(x, countX(lst, x)))"
   ]
  },
  {
   "cell_type": "markdown",
   "metadata": {},
   "source": [
    "### 6. Find sum and average of List"
   ]
  },
  {
   "cell_type": "markdown",
   "metadata": {},
   "source": [
    "##### A. Using sum() method"
   ]
  },
  {
   "cell_type": "code",
   "execution_count": 3,
   "metadata": {},
   "outputs": [
    {
     "name": "stdout",
     "output_type": "stream",
     "text": [
      "Sum =  34\n",
      "Average =  4.25\n"
     ]
    }
   ],
   "source": [
    "L = [2, 4, 6, 4, 3, 5, 6, 4]\n",
    "  \n",
    "#sum\n",
    "count = sum(L)\n",
    "  \n",
    "# finding average\n",
    "avg = count/len(L)\n",
    "  \n",
    "print(\"Sum = \", count)\n",
    "print(\"Average = \", avg)"
   ]
  },
  {
   "cell_type": "markdown",
   "metadata": {},
   "source": [
    "##### B. Naive method"
   ]
  },
  {
   "cell_type": "code",
   "execution_count": 4,
   "metadata": {},
   "outputs": [
    {
     "name": "stdout",
     "output_type": "stream",
     "text": [
      "Sum =  34\n",
      "Average =  4.25\n"
     ]
    }
   ],
   "source": [
    "L = [2, 4, 6, 4, 3, 5, 6, 4]\n",
    "    \n",
    "# variable to store the sum of the list\n",
    "count = 0\n",
    "  \n",
    "# Finding the sum\n",
    "for i in L:\n",
    "    count += i\n",
    "      \n",
    "# divide the total elements by number of elements\n",
    "avg = count/len(L)\n",
    "  \n",
    "print(\"Sum = \", count)\n",
    "print(\"Average = \", avg)"
   ]
  },
  {
   "cell_type": "markdown",
   "metadata": {},
   "source": [
    "### 7. Multiply all numbers in the list"
   ]
  },
  {
   "cell_type": "markdown",
   "metadata": {},
   "source": [
    "##### A. Traversal"
   ]
  },
  {
   "cell_type": "code",
   "execution_count": 7,
   "metadata": {},
   "outputs": [
    {
     "name": "stdout",
     "output_type": "stream",
     "text": [
      "List1 result: 48\n",
      "List2 result: 32\n"
     ]
    }
   ],
   "source": [
    "def multiplyList(myList) :\n",
    "     \n",
    "# Multiply elements one by one\n",
    "    result = 1\n",
    "    for x in myList:\n",
    "         result = result * x\n",
    "    return result\n",
    "     \n",
    "# Driver code\n",
    "list1 = [2, 4, 6]\n",
    "list2 = [1, 4, 8]\n",
    "print('List1 result:', multiplyList(list1))\n",
    "print('List2 result:',multiplyList(list2))"
   ]
  },
  {
   "cell_type": "markdown",
   "metadata": {},
   "source": [
    "##### B. Using lambda function: Using numpy.array"
   ]
  },
  {
   "cell_type": "code",
   "execution_count": 10,
   "metadata": {},
   "outputs": [
    {
     "name": "stdout",
     "output_type": "stream",
     "text": [
      "List1 result: 48\n",
      "List2 result: 32\n"
     ]
    }
   ],
   "source": [
    "from functools import reduce\n",
    "list1 = [2, 4, 6]\n",
    "list2 = [1, 4, 8]\n",
    " \n",
    " \n",
    "result1 = reduce((lambda x, y: x * y), list1)\n",
    "result2 = reduce((lambda x, y: x * y), list2)\n",
    "print('List1 result:',result1)\n",
    "print('List2 result:',result2)"
   ]
  },
  {
   "cell_type": "markdown",
   "metadata": {},
   "source": [
    "### 8. Print even numbers in a list"
   ]
  },
  {
   "cell_type": "markdown",
   "metadata": {},
   "source": [
    "#### A. Using for loop"
   ]
  },
  {
   "cell_type": "code",
   "execution_count": 11,
   "metadata": {},
   "outputs": [
    {
     "name": "stdout",
     "output_type": "stream",
     "text": [
      "4 8 26 78 "
     ]
    }
   ],
   "source": [
    "list1 = [4, 7, 8, 55, 26, 78]\n",
    " \n",
    "# iterating each number in list\n",
    "for num in list1:\n",
    " \n",
    "# checking condition\n",
    "    if num % 2 == 0:\n",
    "        print(num, end=\" \")"
   ]
  },
  {
   "cell_type": "markdown",
   "metadata": {},
   "source": [
    "#### B. Using while loop"
   ]
  },
  {
   "cell_type": "code",
   "execution_count": 12,
   "metadata": {},
   "outputs": [
    {
     "name": "stdout",
     "output_type": "stream",
     "text": [
      "4 8 26 78 "
     ]
    }
   ],
   "source": [
    "list1 = [4, 7, 8, 55, 26, 78]\n",
    "num = 0\n",
    " \n",
    "while(num < len(list1)):\n",
    " \n",
    "# checking condition\n",
    "    if list1[num] % 2 == 0:\n",
    "        print(list1[num], end=\" \")\n",
    " \n",
    "# increment num\n",
    "    num += 1"
   ]
  },
  {
   "cell_type": "markdown",
   "metadata": {},
   "source": [
    "### 9. Print odd numbers in a List"
   ]
  },
  {
   "cell_type": "code",
   "execution_count": 13,
   "metadata": {},
   "outputs": [
    {
     "name": "stdout",
     "output_type": "stream",
     "text": [
      "7 55 "
     ]
    }
   ],
   "source": [
    "list1 = [4, 7, 8, 55, 26, 78]\n",
    "  \n",
    "# iterating each number in list\n",
    "for num in list1:\n",
    "      \n",
    "# checking condition\n",
    "    if num % 2 != 0:\n",
    "       print(num, end = \" \")"
   ]
  },
  {
   "cell_type": "markdown",
   "metadata": {},
   "source": [
    "### 10. Print all even numbers in a range"
   ]
  },
  {
   "cell_type": "code",
   "execution_count": 14,
   "metadata": {},
   "outputs": [
    {
     "name": "stdout",
     "output_type": "stream",
     "text": [
      "6 8 10 12 14 16 18 20 22 24 26 "
     ]
    }
   ],
   "source": [
    "start, end = 6, 26\n",
    "  \n",
    "# iterating each number in list\n",
    "for num in range(start, end + 1):\n",
    "      \n",
    "# checking condition\n",
    "    if num % 2 == 0:\n",
    "        print(num, end = \" \")"
   ]
  },
  {
   "cell_type": "markdown",
   "metadata": {},
   "source": [
    "### 11. Print positive numbers in a list"
   ]
  },
  {
   "cell_type": "code",
   "execution_count": 15,
   "metadata": {},
   "outputs": [
    {
     "name": "stdout",
     "output_type": "stream",
     "text": [
      "4 5 0 25 "
     ]
    }
   ],
   "source": [
    "list1 = [4, -10, 5, -4, 0, 25]\n",
    "  \n",
    "# iterating each number in list\n",
    "for num in list1:\n",
    "      \n",
    "# checking condition\n",
    "    if num >= 0:\n",
    "       print(num, end = \" \")"
   ]
  },
  {
   "cell_type": "markdown",
   "metadata": {},
   "source": [
    "### 12. Print negative numbers in a list"
   ]
  },
  {
   "cell_type": "code",
   "execution_count": 16,
   "metadata": {},
   "outputs": [
    {
     "name": "stdout",
     "output_type": "stream",
     "text": [
      "-10 -4 "
     ]
    }
   ],
   "source": [
    "list1 = [4, -10, 5, -4, 0, 25]\n",
    "\n",
    "for num in list1:\n",
    "      \n",
    "# checking condition\n",
    "    if num < 0:\n",
    "       print(num, end = \" \")"
   ]
  },
  {
   "cell_type": "markdown",
   "metadata": {},
   "source": [
    "### 13. Remove multiple elements from a list"
   ]
  },
  {
   "cell_type": "code",
   "execution_count": 19,
   "metadata": {},
   "outputs": [
    {
     "name": "stdout",
     "output_type": "stream",
     "text": [
      "New list after removing all even numbers:  [5, 25]\n"
     ]
    }
   ],
   "source": [
    "list1 = [4, 5, 6, 25]\n",
    "\n",
    "for ele in list1:\n",
    "    if ele % 2 == 0:\n",
    "        list1.remove(ele)\n",
    " \n",
    "# printing modified list\n",
    "print(\"New list after removing all even numbers: \", list1)"
   ]
  },
  {
   "cell_type": "markdown",
   "metadata": {},
   "source": [
    "### 14. Print duplicates from a list"
   ]
  },
  {
   "cell_type": "code",
   "execution_count": 20,
   "metadata": {},
   "outputs": [
    {
     "name": "stdout",
     "output_type": "stream",
     "text": [
      "Counter({6: 3, 4: 2, 2: 2, 3: 1, 5: 1, 11: 1, 9: 1, 10: 1})\n",
      "[4, 6, 2]\n"
     ]
    }
   ],
   "source": [
    "from collections import Counter\n",
    " \n",
    "l1 = [4,6,3,6,5,6,4,2,2,11,9,10]\n",
    "d = Counter(l1)\n",
    "print(d)\n",
    " \n",
    "new_list = list([item for item in d if d[item]>1])\n",
    "print(new_list)"
   ]
  },
  {
   "cell_type": "code",
   "execution_count": null,
   "metadata": {},
   "outputs": [],
   "source": []
  }
 ],
 "metadata": {
  "kernelspec": {
   "display_name": "Python 3",
   "language": "python",
   "name": "python3"
  },
  "language_info": {
   "codemirror_mode": {
    "name": "ipython",
    "version": 3
   },
   "file_extension": ".py",
   "mimetype": "text/x-python",
   "name": "python",
   "nbconvert_exporter": "python",
   "pygments_lexer": "ipython3",
   "version": "3.7.4"
  }
 },
 "nbformat": 4,
 "nbformat_minor": 2
}
